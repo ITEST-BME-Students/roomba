{
 "cells": [
  {
   "cell_type": "markdown",
   "source": [
    "# Working with matrices: a very brief summary"
   ],
   "metadata": {
    "collapsed": false
   }
  },
  {
   "cell_type": "markdown",
   "source": [
    "To work with matrices (arrays) you should import the `numpy` package."
   ],
   "metadata": {
    "collapsed": false,
    "pycharm": {
     "name": "#%% md\n"
    }
   }
  },
  {
   "cell_type": "code",
   "execution_count": 42,
   "metadata": {
    "collapsed": true
   },
   "outputs": [],
   "source": [
    "import numpy"
   ]
  },
  {
   "cell_type": "markdown",
   "source": [
    "The code below generates a random 10 row, 3 column array containing random numbers from 1 to 10. This array will be used in the examples below."
   ],
   "metadata": {
    "collapsed": false,
    "pycharm": {
     "name": "#%% md\n"
    }
   }
  },
  {
   "cell_type": "code",
   "execution_count": 43,
   "outputs": [
    {
     "data": {
      "text/plain": "array([[6, 7, 7],\n       [8, 5, 2],\n       [6, 6, 5],\n       [2, 6, 4],\n       [8, 8, 2],\n       [8, 6, 4],\n       [7, 5, 7],\n       [9, 8, 6],\n       [2, 6, 3],\n       [2, 4, 8]])"
     },
     "execution_count": 43,
     "metadata": {},
     "output_type": "execute_result"
    }
   ],
   "source": [
    "my_array = numpy.random.randint(1,10, size=(10, 3))\n",
    "my_array"
   ],
   "metadata": {
    "collapsed": false,
    "pycharm": {
     "name": "#%%\n"
    }
   }
  },
  {
   "cell_type": "markdown",
   "source": [
    "## Slicing: getting parts of arrays\n",
    "\n",
    "The syntax for getting parts of an array is the following:\n",
    "\n",
    "`array[row_indices:column_indices]`\n",
    "\n",
    "Remember that the indices for both rows and columns start at 0. If you want to select a complete row or column you can put `:` for that dimension.\n",
    "\n",
    "**Examples**"
   ],
   "metadata": {
    "collapsed": false
   }
  },
  {
   "cell_type": "code",
   "execution_count": 44,
   "outputs": [
    {
     "name": "stdout",
     "output_type": "stream",
     "text": [
      "first row: [6 7 7]\n",
      "fourth row: [2 6 4]\n",
      "first column: [6 8 6 2 8 8 7 9 2 2]\n"
     ]
    }
   ],
   "source": [
    "# Getting the first row. the\n",
    "row = my_array[0, :]\n",
    "print('first row:', row)\n",
    "\n",
    "# Getting the 4th row. the\n",
    "row = my_array[3, :]\n",
    "print('fourth row:', row)\n",
    "\n",
    "# Getting the 1st column. the\n",
    "row = my_array[: ,0]\n",
    "print('first column:', row)"
   ],
   "metadata": {
    "collapsed": false,
    "pycharm": {
     "name": "#%%\n"
    }
   }
  },
  {
   "cell_type": "markdown",
   "source": [
    "## Operations\n",
    "\n",
    "Using `numpy`, you can perform several operation on arrays. The"
   ],
   "metadata": {
    "collapsed": false,
    "pycharm": {
     "name": "#%% md\n"
    }
   }
  },
  {
   "cell_type": "code",
   "execution_count": 45,
   "outputs": [],
   "source": [
    "result = numpy.max(my_array)\n",
    "result = numpy.min(my_array)\n",
    "result = numpy.mean(my_array)\n",
    "\n",
    "# Getting the indices of the max and the minimum values can come in handy\n",
    "\n",
    "result = numpy.argmin(my_array)\n",
    "result = numpy.argmax(my_array)"
   ],
   "metadata": {
    "collapsed": false,
    "pycharm": {
     "name": "#%%\n"
    }
   }
  },
  {
   "cell_type": "markdown",
   "source": [
    "## Calculating with matrices\n",
    "\n",
    "You can multiply, divide, add and subtract with matrices"
   ],
   "metadata": {
    "collapsed": false,
    "pycharm": {
     "name": "#%% md\n"
    }
   }
  },
  {
   "cell_type": "code",
   "execution_count": 46,
   "outputs": [
    {
     "data": {
      "text/plain": "array([[-0.01529235, -0.01004498, -0.01004498],\n       [-0.0047976 , -0.02053973, -0.03628186],\n       [-0.01529235, -0.01529235, -0.02053973],\n       [-0.03628186, -0.01529235, -0.02578711],\n       [-0.0047976 , -0.0047976 , -0.03628186],\n       [-0.0047976 , -0.01529235, -0.02578711],\n       [-0.01004498, -0.02053973, -0.01004498],\n       [ 0.00044978, -0.0047976 , -0.01529235],\n       [-0.03628186, -0.01529235, -0.03103448],\n       [-0.03628186, -0.02578711, -0.0047976 ]])"
     },
     "execution_count": 46,
     "metadata": {},
     "output_type": "execute_result"
    }
   ],
   "source": [
    "(((my_array * 7) + 12.6) - 75) / 1334"
   ],
   "metadata": {
    "collapsed": false,
    "pycharm": {
     "name": "#%%\n"
    }
   }
  },
  {
   "cell_type": "markdown",
   "source": [
    "You can multiply, divide, add and subtract two matrices, provided they have the same size."
   ],
   "metadata": {
    "collapsed": false,
    "pycharm": {
     "name": "#%% md\n"
    }
   }
  },
  {
   "cell_type": "code",
   "execution_count": 47,
   "outputs": [
    {
     "data": {
      "text/plain": "array([20, 15, 17, 12, 18, 18, 19, 23, 11, 14])"
     },
     "execution_count": 47,
     "metadata": {},
     "output_type": "execute_result"
    }
   ],
   "source": [
    "my_array[:,0] + my_array[:,1] +  my_array[:,2]\n"
   ],
   "metadata": {
    "collapsed": false,
    "pycharm": {
     "name": "#%%\n"
    }
   }
  }
 ],
 "metadata": {
  "kernelspec": {
   "display_name": "Python 3",
   "language": "python",
   "name": "python3"
  },
  "language_info": {
   "codemirror_mode": {
    "name": "ipython",
    "version": 2
   },
   "file_extension": ".py",
   "mimetype": "text/x-python",
   "name": "python",
   "nbconvert_exporter": "python",
   "pygments_lexer": "ipython2",
   "version": "2.7.6"
  }
 },
 "nbformat": 4,
 "nbformat_minor": 0
}